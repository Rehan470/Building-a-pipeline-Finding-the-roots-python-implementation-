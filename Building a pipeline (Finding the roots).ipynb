{
 "cells": [
  {
   "cell_type": "code",
   "execution_count": 3,
   "metadata": {},
   "outputs": [
    {
     "name": "stdout",
     "output_type": "stream",
     "text": [
      "Enter Cost of per mile under the ocean :20\n",
      "Enter Cost of pipe per mile on the land :10\n",
      "Enter horizonatal distance in mile :100\n",
      "Enter vertical distance in  mile :50\n",
      "Out put is : 28.86810302734375\n"
     ]
    }
   ],
   "source": [
    "import numpy as np\n",
    "import math\n",
    "def my_pipe_builder(C_ocean,C_land,L,H):\n",
    "    p1=lambda x:math.sqrt(H**2 + x**2)\n",
    "    p2=lambda x:L-x\n",
    "    cost=lambda x: p1(x)*C_ocean+p2(x)*C_land\n",
    "    error=lambda a,b: cost(a) - cost(b)\n",
    "    tolerance=1e-6;\n",
    "    limit=int(np.ceil(np.log2(L/tolerance)))\n",
    "    i=1;\n",
    "    a=0;\n",
    "    b=L;\n",
    "    while i<limit:\n",
    "        m=(a+b)/2\n",
    "        if abs(error(a,b))<tolerance:\n",
    "            return m\n",
    "        elif error(a,b)<0:\n",
    "            b=m\n",
    "        else:\n",
    "            a=m\n",
    "        i+=1\n",
    "C_ocean=int(input(\"Enter Cost of per mile under the ocean :\"))\n",
    "C_land=int(input(\"Enter Cost of pipe per mile on the land :\"))\n",
    "L=int((input(\"Enter horizonatal distance in mile :\")))\n",
    "H=int((input(\"Enter vertical distance in  mile :\")))\n",
    "print(\"Out put is :\",my_pipe_builder(C_ocean, C_land,L,H))"
   ]
  }
 ],
 "metadata": {
  "kernelspec": {
   "display_name": "Python 3",
   "language": "python",
   "name": "python3"
  },
  "language_info": {
   "codemirror_mode": {
    "name": "ipython",
    "version": 3
   },
   "file_extension": ".py",
   "mimetype": "text/x-python",
   "name": "python",
   "nbconvert_exporter": "python",
   "pygments_lexer": "ipython3",
   "version": "3.8.5"
  }
 },
 "nbformat": 4,
 "nbformat_minor": 4
}
